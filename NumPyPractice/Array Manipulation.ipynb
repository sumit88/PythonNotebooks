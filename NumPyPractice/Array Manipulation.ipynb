{
 "cells": [
  {
   "cell_type": "code",
   "execution_count": 1,
   "metadata": {},
   "outputs": [],
   "source": [
    "import numpy as np"
   ]
  },
  {
   "cell_type": "code",
   "execution_count": 3,
   "metadata": {},
   "outputs": [
    {
     "name": "stdout",
     "output_type": "stream",
     "text": [
      "[0 1 2 3 4 5]\n"
     ]
    }
   ],
   "source": [
    "x = np.arange(6)\n",
    "print(x)"
   ]
  },
  {
   "cell_type": "code",
   "execution_count": 4,
   "metadata": {},
   "outputs": [
    {
     "name": "stdout",
     "output_type": "stream",
     "text": [
      "[[0 1]\n",
      " [2 3]\n",
      " [4 5]]\n"
     ]
    }
   ],
   "source": [
    "y = x.reshape((3,2))\n",
    "print(y)"
   ]
  },
  {
   "cell_type": "code",
   "execution_count": 5,
   "metadata": {},
   "outputs": [
    {
     "ename": "ValueError",
     "evalue": "cannot reshape array of size 6 into shape (3,5)",
     "output_type": "error",
     "traceback": [
      "\u001b[0;31m---------------------------------------------------------------------------\u001b[0m",
      "\u001b[0;31mValueError\u001b[0m                                Traceback (most recent call last)",
      "\u001b[0;32m<ipython-input-5-7a20f9b51499>\u001b[0m in \u001b[0;36m<module>\u001b[0;34m\u001b[0m\n\u001b[0;32m----> 1\u001b[0;31m \u001b[0my\u001b[0m \u001b[0;34m=\u001b[0m \u001b[0mx\u001b[0m\u001b[0;34m.\u001b[0m\u001b[0mreshape\u001b[0m\u001b[0;34m(\u001b[0m\u001b[0;34m(\u001b[0m\u001b[0;36m3\u001b[0m\u001b[0;34m,\u001b[0m\u001b[0;36m5\u001b[0m\u001b[0;34m)\u001b[0m\u001b[0;34m)\u001b[0m\u001b[0;34m\u001b[0m\u001b[0;34m\u001b[0m\u001b[0m\n\u001b[0m\u001b[1;32m      2\u001b[0m \u001b[0mprint\u001b[0m\u001b[0;34m(\u001b[0m\u001b[0my\u001b[0m\u001b[0;34m)\u001b[0m\u001b[0;34m\u001b[0m\u001b[0;34m\u001b[0m\u001b[0m\n",
      "\u001b[0;31mValueError\u001b[0m: cannot reshape array of size 6 into shape (3,5)"
     ]
    }
   ],
   "source": [
    "y = x.reshape((3,5))\n",
    "print(y)"
   ]
  },
  {
   "cell_type": "code",
   "execution_count": 11,
   "metadata": {},
   "outputs": [
    {
     "name": "stdout",
     "output_type": "stream",
     "text": [
      "[[0 1 2]\n",
      " [3 4 5]]\n",
      "\n",
      "\n",
      " reshaping this\n",
      "[0 1 2 3 4 5]\n",
      "[[0 1 2]\n",
      " [3 4 5]]\n"
     ]
    }
   ],
   "source": [
    "x = np.array([[0,1,2],[3,4,5]] , dtype =np.uint8)\n",
    "print(x)\n",
    "\n",
    "print('\\n\\n reshaping this')\n",
    "y =np.reshape(x,6) \n",
    "print(y)\n",
    "print(x)"
   ]
  },
  {
   "cell_type": "code",
   "execution_count": 10,
   "metadata": {},
   "outputs": [
    {
     "name": "stdout",
     "output_type": "stream",
     "text": [
      "[0 1 2 3 4 5]\n",
      "[[0 1 2]\n",
      " [3 4 5]]\n"
     ]
    }
   ],
   "source": [
    "y = x.reshape(6) \n",
    "print(y)\n",
    "print(x)"
   ]
  },
  {
   "cell_type": "code",
   "execution_count": 12,
   "metadata": {},
   "outputs": [
    {
     "name": "stdout",
     "output_type": "stream",
     "text": [
      "[0 1 2 3 4 5]\n"
     ]
    }
   ],
   "source": [
    "y = x.ravel()\n",
    "print(y)"
   ]
  },
  {
   "cell_type": "markdown",
   "metadata": {},
   "source": [
    "`or`"
   ]
  },
  {
   "cell_type": "code",
   "execution_count": 13,
   "metadata": {},
   "outputs": [
    {
     "name": "stdout",
     "output_type": "stream",
     "text": [
      "[0 1 2 3 4 5]\n"
     ]
    }
   ],
   "source": [
    "y = np.ravel(x)\n",
    "print(y)"
   ]
  },
  {
   "cell_type": "code",
   "execution_count": 15,
   "metadata": {},
   "outputs": [
    {
     "name": "stdout",
     "output_type": "stream",
     "text": [
      "[0 1 2 3 4 5]\n"
     ]
    }
   ],
   "source": [
    "y = x.flatten()\n",
    "print(y)"
   ]
  },
  {
   "cell_type": "code",
   "execution_count": 18,
   "metadata": {},
   "outputs": [
    {
     "name": "stdout",
     "output_type": "stream",
     "text": [
      "[[0 1 2]\n",
      " [3 4 5]]\n"
     ]
    }
   ],
   "source": [
    "print(x)"
   ]
  },
  {
   "cell_type": "code",
   "execution_count": 16,
   "metadata": {},
   "outputs": [
    {
     "name": "stdout",
     "output_type": "stream",
     "text": [
      "[0 1 2 3 4 5]\n"
     ]
    }
   ],
   "source": [
    "y = x.flatten('C') # Clanguage column order flattern , it is default\n",
    "print(y)"
   ]
  },
  {
   "cell_type": "code",
   "execution_count": 17,
   "metadata": {},
   "outputs": [
    {
     "name": "stdout",
     "output_type": "stream",
     "text": [
      "[0 3 1 4 2 5]\n"
     ]
    }
   ],
   "source": [
    "y = x.flatten('F') # Forton language column order flattern \n",
    "print(y)"
   ]
  },
  {
   "cell_type": "code",
   "execution_count": 19,
   "metadata": {},
   "outputs": [
    {
     "name": "stdout",
     "output_type": "stream",
     "text": [
      "int64\n"
     ]
    }
   ],
   "source": [
    "x = np.array([1,2,3])\n",
    "y = np.array([4,5,6])\n",
    "\n",
    "print(x.dtype)  # defaults int64 , which is huge"
   ]
  },
  {
   "cell_type": "markdown",
   "metadata": {},
   "source": [
    "` joiniging 2 arrays`"
   ]
  },
  {
   "cell_type": "code",
   "execution_count": 21,
   "metadata": {},
   "outputs": [
    {
     "name": "stdout",
     "output_type": "stream",
     "text": [
      "uint8\n",
      "[[1 2 3]\n",
      " [4 5 6]]\n"
     ]
    }
   ],
   "source": [
    "x = np.array([1,2,3] ,dtype=np.uint8)\n",
    "y = np.array([4,5,6],dtype=np.uint8)\n",
    "\n",
    "z= np.stack((x,y))\n",
    "print(z)"
   ]
  },
  {
   "cell_type": "code",
   "execution_count": 22,
   "metadata": {},
   "outputs": [
    {
     "name": "stdout",
     "output_type": "stream",
     "text": [
      "[[1 2 3]\n",
      " [4 5 6]]\n"
     ]
    }
   ],
   "source": [
    "x = np.array([1,2,3] ,dtype=np.uint8)\n",
    "y = np.array([4,5,6],dtype=np.uint8)\n",
    "\n",
    "z= np.stack((x,y) ,axis=0)\n",
    "print(z)"
   ]
  },
  {
   "cell_type": "code",
   "execution_count": 25,
   "metadata": {},
   "outputs": [
    {
     "name": "stdout",
     "output_type": "stream",
     "text": [
      "[[ 1 11]\n",
      " [ 2 12]\n",
      " [ 3 13]\n",
      " [ 4 14]\n",
      " [ 5 15]]\n"
     ]
    }
   ],
   "source": [
    "x = np.array([1,2,3] ,dtype=np.uint8)\n",
    "y = np.array([4,5,6],dtype=np.uint8)\n",
    "\n",
    "z= np.stack((x,y) ,axis=-1)\n",
    "print(z)"
   ]
  },
  {
   "cell_type": "code",
   "execution_count": 26,
   "metadata": {},
   "outputs": [
    {
     "name": "stdout",
     "output_type": "stream",
     "text": [
      "[[ 1 11]\n",
      " [ 2 12]\n",
      " [ 3 13]\n",
      " [ 4 14]\n",
      " [ 5 15]]\n"
     ]
    }
   ],
   "source": [
    "x = np.array([1,2,3,4,5] ,dtype=np.uint8)\n",
    "y = np.array([11,12,13,14,15],dtype=np.uint8)\n",
    "z= np.stack((x,y) ,axis= 1)\n",
    "print(z)"
   ]
  },
  {
   "cell_type": "code",
   "execution_count": 27,
   "metadata": {},
   "outputs": [
    {
     "name": "stdout",
     "output_type": "stream",
     "text": [
      "[12 14 16 18 20]\n"
     ]
    }
   ],
   "source": [
    "z = x + y\n",
    "\n",
    "print(z)"
   ]
  },
  {
   "cell_type": "code",
   "execution_count": 28,
   "metadata": {},
   "outputs": [
    {
     "name": "stdout",
     "output_type": "stream",
     "text": [
      "[[[1 4]\n",
      "  [2 5]\n",
      "  [3 6]]]\n",
      "(1, 3, 2)\n"
     ]
    }
   ],
   "source": [
    "x = np.array([1,2,3] ,dtype=np.uint8)\n",
    "y = np.array([4,5,6],dtype=np.uint8)\n",
    "\n",
    "\n",
    "z = np.dstack((x,y))  #depth wise stack\n",
    "print(z)  # 3D structure\n",
    "print(z.shape)"
   ]
  },
  {
   "cell_type": "code",
   "execution_count": 29,
   "metadata": {},
   "outputs": [
    {
     "name": "stdout",
     "output_type": "stream",
     "text": [
      "[[1 2 3]\n",
      " [4 5 6]]\n",
      "(2, 3)\n"
     ]
    }
   ],
   "source": [
    "z = np.vstack((x,y))  #vertical wise stack\n",
    "print(z)\n",
    "print(z.shape)"
   ]
  },
  {
   "cell_type": "code",
   "execution_count": 30,
   "metadata": {},
   "outputs": [
    {
     "name": "stdout",
     "output_type": "stream",
     "text": [
      "[1 2 3 4 5 6]\n",
      "(6,)\n"
     ]
    }
   ],
   "source": [
    "\n",
    "z = np.hstack((x,y))  #horizontal wise stack\n",
    "print(z)\n",
    "print(z.shape)"
   ]
  },
  {
   "cell_type": "code",
   "execution_count": 31,
   "metadata": {},
   "outputs": [
    {
     "name": "stdout",
     "output_type": "stream",
     "text": [
      "[0 1 2 3 4 5 6 7 8]\n"
     ]
    }
   ],
   "source": [
    "x = np.arange(9)\n",
    "print(x)"
   ]
  },
  {
   "cell_type": "code",
   "execution_count": 32,
   "metadata": {},
   "outputs": [
    {
     "name": "stdout",
     "output_type": "stream",
     "text": [
      "[0 1 2] [3 4 5] [6 7 8]\n"
     ]
    }
   ],
   "source": [
    "a, b, c = np.split(x,3)\n",
    "print(a,b,c)"
   ]
  },
  {
   "cell_type": "markdown",
   "metadata": {},
   "source": [
    "` split should create equal division or error will come\n",
    "array split does not result in an equal division')`"
   ]
  },
  {
   "cell_type": "code",
   "execution_count": 35,
   "metadata": {},
   "outputs": [
    {
     "name": "stdout",
     "output_type": "stream",
     "text": [
      "Split should create equal division\n"
     ]
    }
   ],
   "source": [
    "try:\n",
    "    a, b , c = np.split(x,4)\n",
    "except ValueError:\n",
    "    print(\"Split should create equal division\")"
   ]
  },
  {
   "cell_type": "code",
   "execution_count": 38,
   "metadata": {},
   "outputs": [
    {
     "name": "stdout",
     "output_type": "stream",
     "text": [
      "y = \n",
      "[[[0.76055455 0.09212503 0.81768595 0.44582647]\n",
      "  [0.16764071 0.49584829 0.32257242 0.84443791]\n",
      "  [0.26217984 0.42942418 0.43487903 0.85560944]\n",
      "  [0.10392513 0.30231827 0.49248738 0.90044236]]\n",
      "\n",
      " [[0.48142317 0.69582655 0.66794278 0.22069594]\n",
      "  [0.62166239 0.94872424 0.93032553 0.89056338]\n",
      "  [0.08421503 0.30248198 0.82551064 0.85743096]\n",
      "  [0.59236442 0.08671285 0.35439184 0.940976  ]]]\n",
      "z = \n",
      "[[[0.54597466 0.20366393 0.04458496 0.14441707]\n",
      "  [0.07629342 0.54695323 0.9090097  0.55039649]\n",
      "  [0.30159296 0.11415143 0.42990986 0.21253237]\n",
      "  [0.97467621 0.45300142 0.24841276 0.78476774]]\n",
      "\n",
      " [[0.36673445 0.27519807 0.26217098 0.84883952]\n",
      "  [0.42870236 0.15470238 0.05550237 0.44303652]\n",
      "  [0.45254845 0.1899707  0.07594531 0.07764848]\n",
      "  [0.38548016 0.05459458 0.29471472 0.9999505 ]]]\n"
     ]
    }
   ],
   "source": [
    "x = np.random.rand(4,4,4)\n",
    "y, z = np.split(x,2)\n",
    "\n",
    "print( 'y = ')\n",
    "print(y)\n",
    "\n",
    "print('\\n\\n\\n')\n",
    "print( 'z = ')\n",
    "print(z)"
   ]
  },
  {
   "cell_type": "code",
   "execution_count": 39,
   "metadata": {},
   "outputs": [
    {
     "name": "stdout",
     "output_type": "stream",
     "text": [
      "y = \n",
      "[[[0.35705531 0.69383832]\n",
      "  [0.39296098 0.73283293]\n",
      "  [0.23653187 0.1701702 ]\n",
      "  [0.95151028 0.67238723]]\n",
      "\n",
      " [[0.26988912 0.28076258]\n",
      "  [0.4816757  0.04531771]\n",
      "  [0.18745254 0.78963713]\n",
      "  [0.49994162 0.34406882]]\n",
      "\n",
      " [[0.85132597 0.54230718]\n",
      "  [0.43774443 0.18462892]\n",
      "  [0.34774397 0.64975994]\n",
      "  [0.01408578 0.88393394]]\n",
      "\n",
      " [[0.01328268 0.81933684]\n",
      "  [0.07591281 0.7629526 ]\n",
      "  [0.65208334 0.97236816]\n",
      "  [0.22096585 0.04662654]]]\n",
      "\n",
      "\n",
      "\n",
      "\n",
      "z = \n",
      "[[[0.66559916 0.17480759]\n",
      "  [0.58492128 0.29390204]\n",
      "  [0.34774278 0.56589604]\n",
      "  [0.59298926 0.32740266]]\n",
      "\n",
      " [[0.37416073 0.531534  ]\n",
      "  [0.65301658 0.45293788]\n",
      "  [0.39679085 0.67368381]\n",
      "  [0.82320437 0.48933646]]\n",
      "\n",
      " [[0.64980208 0.57634967]\n",
      "  [0.29058006 0.9535736 ]\n",
      "  [0.31133934 0.99104301]\n",
      "  [0.50735791 0.03638263]]\n",
      "\n",
      " [[0.94409565 0.47836986]\n",
      "  [0.83697733 0.27958259]\n",
      "  [0.4014381  0.41137285]\n",
      "  [0.14960262 0.95224322]]]\n"
     ]
    }
   ],
   "source": [
    "x = np.random.rand(4,4,4)\n",
    "y, z = np.dsplit(x,2) #using depth\n",
    "\n",
    "print( 'y = ')\n",
    "print(y)\n",
    "\n",
    "print('\\n\\n\\n')\n",
    "print( 'z = ')\n",
    "print(z)\n"
   ]
  },
  {
   "cell_type": "code",
   "execution_count": 40,
   "metadata": {},
   "outputs": [
    {
     "name": "stdout",
     "output_type": "stream",
     "text": [
      "y = \n",
      "[[[0.3387333  0.6999567  0.05560328 0.37900118]\n",
      "  [0.12705287 0.40337237 0.70104682 0.7687086 ]\n",
      "  [0.10113296 0.16891991 0.57828294 0.50537098]\n",
      "  [0.48081799 0.24229262 0.84975102 0.48331866]]\n",
      "\n",
      " [[0.69286832 0.26938516 0.55096961 0.22274174]\n",
      "  [0.15252338 0.89264015 0.41335393 0.17373328]\n",
      "  [0.83518456 0.09260023 0.71150128 0.84389121]\n",
      "  [0.14965154 0.21239541 0.30426388 0.21588886]]]\n",
      "\n",
      "\n",
      "\n",
      "\n",
      "z = \n",
      "[[[0.33264808 0.35029751 0.89344263 0.55111073]\n",
      "  [0.39701384 0.0628881  0.61451301 0.72967296]\n",
      "  [0.64462311 0.94844267 0.48166661 0.92009867]\n",
      "  [0.09792682 0.81487262 0.88422414 0.28747955]]\n",
      "\n",
      " [[0.36830199 0.38168942 0.15083138 0.57607396]\n",
      "  [0.1918633  0.08008054 0.94893742 0.34551991]\n",
      "  [0.88065587 0.07756887 0.08203324 0.82185889]\n",
      "  [0.96909326 0.4539958  0.29363507 0.5663459 ]]]\n"
     ]
    }
   ],
   "source": [
    "x = np.random.rand(4,4,4)\n",
    "y, z = np.vsplit(x,2) #vertical\n",
    "\n",
    "print( 'y = ')\n",
    "print(y)\n",
    "\n",
    "print('\\n\\n\\n')\n",
    "print( 'z = ')\n",
    "print(z)"
   ]
  },
  {
   "cell_type": "code",
   "execution_count": 41,
   "metadata": {},
   "outputs": [
    {
     "name": "stdout",
     "output_type": "stream",
     "text": [
      "y = \n",
      "[[[0.35712791 0.83235937 0.30382504 0.68197785]\n",
      "  [0.77020148 0.51067681 0.48254789 0.53823992]]\n",
      "\n",
      " [[0.1778994  0.09031207 0.05416159 0.60617598]\n",
      "  [0.58370887 0.71717635 0.94659295 0.24318936]]\n",
      "\n",
      " [[0.83014659 0.15286518 0.81339266 0.719447  ]\n",
      "  [0.9465033  0.91438942 0.22621477 0.90220137]]\n",
      "\n",
      " [[0.02450254 0.01459085 0.37985945 0.86314879]\n",
      "  [0.5074162  0.35107578 0.10644009 0.17696806]]]\n",
      "\n",
      "\n",
      "\n",
      "\n",
      "z = \n",
      "[[[0.16019944 0.86166966 0.78672957 0.39097424]\n",
      "  [0.55293764 0.85676273 0.79804309 0.84545077]]\n",
      "\n",
      " [[0.60425674 0.69683393 0.20865043 0.29607618]\n",
      "  [0.42061342 0.95007587 0.72568434 0.38507242]]\n",
      "\n",
      " [[0.42194334 0.4348163  0.8223257  0.70893528]\n",
      "  [0.77144105 0.97380105 0.03128816 0.14587223]]\n",
      "\n",
      " [[0.57132726 0.00271933 0.62729711 0.40617888]\n",
      "  [0.59645125 0.99742048 0.94687127 0.28233397]]]\n"
     ]
    }
   ],
   "source": [
    "x = np.random.rand(4,4,4)\n",
    "y, z = np.hsplit(x,2) #hosrixaon\n",
    "\n",
    "print( 'y = ')\n",
    "print(y)\n",
    "\n",
    "print('\\n\\n\\n')\n",
    "print( 'z = ')\n",
    "print(z)"
   ]
  },
  {
   "cell_type": "code",
   "execution_count": 45,
   "metadata": {},
   "outputs": [
    {
     "name": "stdout",
     "output_type": "stream",
     "text": [
      "[[ 0  1  2  3]\n",
      " [ 4  5  6  7]\n",
      " [ 8  9 10 11]\n",
      " [12 13 14 15]]\n",
      "\n",
      "\n",
      "\n",
      "[[15 14 13 12]\n",
      " [11 10  9  8]\n",
      " [ 7  6  5  4]\n",
      " [ 3  2  1  0]]\n"
     ]
    }
   ],
   "source": [
    "x =np.arange(16).reshape(4,4)\n",
    "print(x)\n",
    "print('\\n\\n')\n",
    "y = np.flip(x)\n",
    "print(y)"
   ]
  },
  {
   "cell_type": "code",
   "execution_count": 48,
   "metadata": {},
   "outputs": [
    {
     "name": "stdout",
     "output_type": "stream",
     "text": [
      "[[ 0  1  2  3]\n",
      " [ 4  5  6  7]\n",
      " [ 8  9 10 11]\n",
      " [12 13 14 15]]\n",
      "\n",
      "\n",
      "\n",
      "[[ 3  2  1  0]\n",
      " [ 7  6  5  4]\n",
      " [11 10  9  8]\n",
      " [15 14 13 12]]\n"
     ]
    }
   ],
   "source": [
    "x =np.arange(16).reshape(4,4)\n",
    "print(x)\n",
    "print('\\n\\n')\n",
    "y = np.flip(x, axis =1)\n",
    "print(y)"
   ]
  },
  {
   "cell_type": "code",
   "execution_count": 50,
   "metadata": {},
   "outputs": [
    {
     "name": "stdout",
     "output_type": "stream",
     "text": [
      "[[ 0  1  2  3]\n",
      " [ 4  5  6  7]\n",
      " [ 8  9 10 11]\n",
      " [12 13 14 15]]\n",
      "\n",
      "\n",
      "\n",
      "[[12 13 14 15]\n",
      " [ 8  9 10 11]\n",
      " [ 4  5  6  7]\n",
      " [ 0  1  2  3]]\n"
     ]
    }
   ],
   "source": [
    "x =np.arange(16).reshape(4,4)\n",
    "print(x)\n",
    "print('\\n\\n')\n",
    "y = np.flipud(x)\n",
    "print(y)"
   ]
  },
  {
   "cell_type": "code",
   "execution_count": 51,
   "metadata": {},
   "outputs": [
    {
     "name": "stdout",
     "output_type": "stream",
     "text": [
      "[[ 8  9 10 11]\n",
      " [12 13 14 15]\n",
      " [ 0  1  2  3]\n",
      " [ 4  5  6  7]]\n"
     ]
    }
   ],
   "source": [
    "y = np.roll(x,8)\n",
    "print(y)"
   ]
  },
  {
   "cell_type": "code",
   "execution_count": 62,
   "metadata": {},
   "outputs": [
    {
     "name": "stdout",
     "output_type": "stream",
     "text": [
      "[[ 0  1  2  3]\n",
      " [ 4  5  6  7]\n",
      " [ 8  9 10 11]\n",
      " [12 13 14 15]]\n",
      "[[15 14 13 12]\n",
      " [11 10  9  8]\n",
      " [ 7  6  5  4]\n",
      " [ 3  2  1  0]]\n"
     ]
    }
   ],
   "source": [
    "print(x)\n",
    "y = np.rot90(x,2)\n",
    "print(y)"
   ]
  },
  {
   "cell_type": "code",
   "execution_count": null,
   "metadata": {},
   "outputs": [],
   "source": []
  }
 ],
 "metadata": {
  "kernelspec": {
   "display_name": "Python 3",
   "language": "python",
   "name": "python3"
  },
  "language_info": {
   "codemirror_mode": {
    "name": "ipython",
    "version": 3
   },
   "file_extension": ".py",
   "mimetype": "text/x-python",
   "name": "python",
   "nbconvert_exporter": "python",
   "pygments_lexer": "ipython3",
   "version": "3.6.9"
  }
 },
 "nbformat": 4,
 "nbformat_minor": 2
}
