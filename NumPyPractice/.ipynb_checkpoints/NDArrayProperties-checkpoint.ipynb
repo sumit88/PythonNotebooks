{
 "cells": [
  {
   "cell_type": "markdown",
   "metadata": {},
   "source": [
    "# NumPy Ndarray Properties"
   ]
  },
  {
   "cell_type": "code",
   "execution_count": 2,
   "metadata": {},
   "outputs": [],
   "source": [
    "import numpy as np"
   ]
  },
  {
   "cell_type": "code",
   "execution_count": 4,
   "metadata": {},
   "outputs": [
    {
     "name": "stdout",
     "output_type": "stream",
     "text": [
      "[[[ 1  2  3]\n",
      "  [ 4  5  6]]\n",
      "\n",
      " [[ 0 -1 -2]\n",
      "  [-3 -4  5]]]\n"
     ]
    }
   ],
   "source": [
    "x = np.array([[[1,2,3] ,[4,5,6]] , [[0,-1,-2],[-3,-4,5]]], np.int16)\n",
    "\n",
    "print(x)"
   ]
  },
  {
   "cell_type": "code",
   "execution_count": 8,
   "metadata": {},
   "outputs": [
    {
     "name": "stdout",
     "output_type": "stream",
     "text": [
      "(2, 2, 3)\n",
      "3\n",
      "int16\n",
      "12\n",
      "24\n"
     ]
    }
   ],
   "source": [
    "print(x.shape) #gives shape of data structure\n",
    "print(x.ndim) #gives dimenstion of array\n",
    "print(x.dtype) #gives data type of array\n",
    "\n",
    "print(x.size) # gives size of array , total number of elements in array\n",
    "print(x.nbytes) # gives size in byte consumeed by the array "
   ]
  },
  {
   "cell_type": "code",
   "execution_count": 9,
   "metadata": {},
   "outputs": [
    {
     "name": "stdout",
     "output_type": "stream",
     "text": [
      "[[[ 1  0]\n",
      "  [ 4 -3]]\n",
      "\n",
      " [[ 2 -1]\n",
      "  [ 5 -4]]\n",
      "\n",
      " [[ 3 -2]\n",
      "  [ 6  5]]]\n"
     ]
    }
   ],
   "source": [
    "print(x.T) # gives transpose of the directory"
   ]
  },
  {
   "cell_type": "markdown",
   "metadata": {},
   "source": [
    "# Numpy Constants"
   ]
  },
  {
   "cell_type": "code",
   "execution_count": 11,
   "metadata": {},
   "outputs": [
    {
     "name": "stdout",
     "output_type": "stream",
     "text": [
      "nan\n",
      "inf\n",
      "-inf\n",
      "-0.0\n",
      "0.0\n",
      "2.718281828459045\n",
      "0.5772156649015329\n",
      "3.141592653589793\n"
     ]
    }
   ],
   "source": [
    "print(np.NAN) # Not  a number\n",
    "print(np.inf) #  postitive infinity\n",
    "print(np.NINF)\n",
    "print(np.NZERO)\n",
    "print(np.PZERO)\n",
    "\n",
    "# scientific constants\n",
    "print(np.e)\n",
    "print(np.euler_gamma)\n",
    "print(np.pi)"
   ]
  },
  {
   "cell_type": "code",
   "execution_count": 19,
   "metadata": {},
   "outputs": [
    {
     "name": "stdout",
     "output_type": "stream",
     "text": [
      "False\n",
      "False\n",
      "False\n",
      "False\n"
     ]
    }
   ],
   "source": [
    "print(np.isinf(x[0,0,0]))  #Shows which elements are positive or negative infinity\n",
    "\n",
    "print(np.isposinf(x[0,0,0])) # Shows which elements are positive infinity\n",
    "\n",
    "print(np.isneginf(x[0,0,0])) # Shows which elements are negative infinity\n",
    "\n",
    "print(np.isnan(x[0,0,0])) # Shows which elements are Not a Number"
   ]
  },
  {
   "cell_type": "code",
   "execution_count": null,
   "metadata": {},
   "outputs": [],
   "source": []
  },
  {
   "cell_type": "code",
   "execution_count": null,
   "metadata": {},
   "outputs": [],
   "source": []
  }
 ],
 "metadata": {
  "kernelspec": {
   "display_name": "Python 3",
   "language": "python",
   "name": "python3"
  },
  "language_info": {
   "codemirror_mode": {
    "name": "ipython",
    "version": 3
   },
   "file_extension": ".py",
   "mimetype": "text/x-python",
   "name": "python",
   "nbconvert_exporter": "python",
   "pygments_lexer": "ipython3",
   "version": "3.6.9"
  }
 },
 "nbformat": 4,
 "nbformat_minor": 2
}
